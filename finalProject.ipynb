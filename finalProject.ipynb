{
 "cells": [
  {
   "cell_type": "markdown",
   "id": "a9989250-d362-4aec-b00e-29f99c226a99",
   "metadata": {},
   "source": [
    "# **Abstract** \n",
    "This project aims to analyze whether there is a relationship between countries' development level and their environmental and sustainability policies. The data are obtained from the World Bank for more than 200 countries between 1990 and 2023, including various socio-economic and environmental factors. \n",
    "First, different cleaning and organizing operations on the data are performed with data.table and tidyverse packages. The relationship between the selected environmental and socio-economic data is examined by cluster analysis. Then, regression and decision tree models are applied to capture both linear and non-linear relationships, providing additional insight into the socio-economic drivers of sustainability. The analysis is also supported by visuals created with the ggplot2 package to highlight country-specific trends. This study seeks to equip actionable insights by identifying key socio-economic factors that influence sustainable development globally.\n",
    "\n",
    "# **Introduction**  \n",
    "In order to cope with the global challenges posed by various environmental issues such as climate change, the relationship between environmental sustainability and socio-economic development must be understood. These dynamics need to be analyzed comprehensively, as various economic factors significantly influence environmental outcomes. This project aims to explore these relationships by utilizing a large-scale World Bank dataset covering over 30 years of data from more than 200 countries.  \n",
    "\n",
    "The dataset consists of selected indicators reflecting environmental sustainability and socio-economic factors. Initially, cluster analysis is performed to identify natural groupings in the data, revealing patterns across countries and regions. The analysis is then deepened using regression models to quantify linear relationships and decision tree algorithms to capture complex, non-linear interactions between variables.  \n",
    "\n",
    "The overall framework of the project includes data collection, pre-processing, clustering, modeling, and visualization. Visualization tools such as ggplot2 will facilitate the discovery of trends by providing comparative results at the country level. By integrating cluster analysis with regression and decision tree models, this project aims to provide a holistic view of the socio-economic drivers of sustainability and to reveal the relationship between countries' levels of development and environmental policies.\n",
    "\n",
    "# **Data**\n",
    "The dataset of this project includes a wide range of socio-economic and environmental indicators that are considered to reflect the dynamics of economic growth, social development, and sustainability. In order to determine the level of development, demographic metrics such as population growth and net migration are primarily selected. Socio-economic indicators include poverty, income distribution, GDP components, and access to basic resources such as electricity and health services. These data are supplemented by foreign direct investment and remittances, reflecting the effects of globalization. In order to ensure that the level of development is not only analyzed in economic terms, various social development indices are also included in the analysis. These are supported by education and human development indicators such as school enrolment rates and human capital scores, as well as data such as gender equality and female labor force participation rates that emphasize social inclusion. Environmental data covers climate and emission indicators such as greenhouse gas emissions and fossil fuel dependency, along with renewable energy use, water withdrawals, forest areas, and air pollution levels, with a focus on sustainability and stressors. \n",
    " \n",
    "During the data preparation phase, missing values (NA) were encountered in several indicators and adjustments had to be made to ensure the completeness and accuracy of the analysis. Where possible, imputation techniques, in particular the `mice` package, were applied to fill the gaps. Where missing data could not be reliably attributed or exceeded acceptable thresholds, certain indicators were either excluded or replaced with more consistently available alternatives. This process was intended to preserve the analytical depth of the dataset and minimize distortions due to missing information however may have deteriorated the reliability of the data, especially for underdeveloped countries, as too many NA values were encountered.  \n",
    "\n",
    "With these pre-processing steps, the final dataset is ready for analysis to reveal patterns and insights into the socio-economic drivers of environmental sustainability.\n",
    "\n",
    "# **Methods**  \n",
    "The methodology includes data collection, pre-processing, clustering, regression analysis, and decision tree modeling. Following this methodology, the outcome of the analysis is intended to yield meaningful insights.\n",
    "\n",
    "**1. Data Collection and Preprocessing**  \n",
    "The content of the data and the methods applied to deal with NA values are described in detail in the Data section above.\n",
    "Continuous variables were normalized to ensure consistency and comparability across countries and indicators, and the dataset was transformed using `data.table` and `tidyverse` packages to reconstruct and clean the data for analysis.\n",
    "\n",
    "**2. Cluster Analysis**  \n",
    "Cluster analysis was performed to determine the natural groupings of countries according to their environmental and socio-economic profiles. Hierarchical clustering (`hclust`) and k-means clustering were applied to the dataset. In order to determine the optimum number of clusters, the `NbClust` package, which calculates various cluster validity indices, was used.\n",
    "\n",
    "**3. Visualization and Reporting**  \n",
    "The results obtained from the cluster analysis are visualized through `ggplot2` to highlight country-based patterns and cluster differences.\n",
    "\n",
    "**Regression Analysis**  \n",
    "Since the desired result could not be obtained sufficiently with cluster analysis, it was aimed to improve the analysis by using multiple regression models to examine the linear relationships between socio-economic and environmental indicators. Regression analysis was performed using the `lm` function targeting key sustainability indicators as independent variables. Model fit and significance was evaluated through statistical tests.  \n",
    "\n",
    "**5. Decision Tree Modelling**  \n",
    "Finally, decision tree models were used to deepen the analysis by capturing non-linear interactions and complex dependencies between variables. The `rpart` package was used to build decision trees that predict environmental indicators based on socio-economic factors. The models were pruned to avoid over-fitting and the tree structures were visualized using the `visNetwork` package for clearer interpretation of decision paths.  \n",
    "\n",
    "This methodological approach provides valuable information for researchers by combining clustering, regression, and decision tree techniques to provide a multidimensional view of socio-economic factors driving environmental sustainability.\n",
    "\n",
    "# **Code**"
   ]
  },
  {
   "cell_type": "code",
   "execution_count": null,
   "id": "17193e85-9dfe-4c92-8048-ff83e747364a",
   "metadata": {
    "tags": []
   },
   "outputs": [],
   "source": [
    "install.packages(\"mice\")\n",
    "install.packages(\"zoo\")\n",
    "install.packages(\"WDI\")\n",
    "install.packages(\"leaflet\")"
   ]
  },
  {
   "cell_type": "code",
   "execution_count": null,
   "id": "84f792e1-daa0-43f1-a4ad-6a5d93be091d",
   "metadata": {
    "tags": []
   },
   "outputs": [],
   "source": [
    "library(tidyverse)\n",
    "library(magrittr)\n",
    "library(DT)\n",
    "library(data.table)\n",
    "library(tidyr)\n",
    "library(mice)\n",
    "library(zoo)\n",
    "library(WDI)\n",
    "library(leaflet)\n",
    "library(plotly)\n",
    "library(BBmisc) # for easy normalization of data\n",
    "library(cluster) # for cluster analysis\n",
    "library(compareGroups) # for building descriptive statistics tables\n",
    "library(HDclassif) # for the dataset\n",
    "library(NbClust) # for cluster validity measures\n",
    "library(heatmaply) # visualize clusters with heatmap and dendrograms\n",
    "library(dendextend) # enhanced dendrograms\n",
    "library(circlize) # circular visualization\n",
    "library(factoextra) # visualizing distances, cluster, heatmap\n",
    "library(fastcluster) # faster hclust implementation\n",
    "library(microbenchmark) # performance benchmarking\n",
    "library(caret) # for confusion matrix\n",
    "library(formattable) # for number formatting\n",
    "library(pheatmap) # heatmap\n",
    "library(knitr) # pretty tables\n",
    "library(kableExtra) # pretty tables\n",
    "library(IRdisplay) # pretty tables\n",
    "library(NbClust) # cluster metrics\n",
    "library(vegan) # cluster metrics\n",
    "library(listviewer) # view list object\n",
    "library(rpart)\n",
    "library(rpart.plot)\n",
    "library(psych)\n",
    "library(pROC)\n",
    "\n",
    "options(warn=-1) # for suppressing messages"
   ]
  },
  {
   "cell_type": "code",
   "execution_count": null,
   "id": "43fc6f86-d9d5-4975-9558-6e69835071c2",
   "metadata": {
    "tags": []
   },
   "outputs": [],
   "source": [
    "file_path <- \"https://raw.githubusercontent.com/s-gkce/AD48G_finalProjectData/refs/heads/main/wb_dt.csv\" \n",
    "data <- fread(file_path)"
   ]
  },
  {
   "cell_type": "code",
   "execution_count": null,
   "id": "b1dd0cc7-c548-48a9-a358-c7a23b98e8de",
   "metadata": {
    "tags": []
   },
   "outputs": [],
   "source": [
    "print(names(data))"
   ]
  },
  {
   "cell_type": "code",
   "execution_count": null,
   "id": "2e80cc10-257f-423f-9c9b-d2bd305f53bd",
   "metadata": {
    "tags": []
   },
   "outputs": [],
   "source": [
    "year_columns <- names(data)[grep(\"\\\\[YR\", names(data))]"
   ]
  },
  {
   "cell_type": "markdown",
   "id": "6a8d9830-e732-4d9c-92b4-c28640189747",
   "metadata": {},
   "source": [
    "## Reshaping the data for easier analysis"
   ]
  },
  {
   "cell_type": "code",
   "execution_count": null,
   "id": "b8ee5df8-6ef7-4d61-8f17-68eeaaa6fddb",
   "metadata": {
    "tags": []
   },
   "outputs": [],
   "source": [
    "melted_data <- melt(data, \n",
    "                    id.vars = c(\"Country Name\", \"Country Code\", \"Series Name\", \"Series Code\"),\n",
    "                    measure.vars = year_columns,\n",
    "                    variable.name = \"Year\",\n",
    "                    value.name = \"Value\")"
   ]
  },
  {
   "cell_type": "code",
   "execution_count": null,
   "id": "681cca7d-f529-4711-bae8-333acc135c51",
   "metadata": {
    "tags": []
   },
   "outputs": [],
   "source": [
    "head(melted_data)"
   ]
  },
  {
   "cell_type": "code",
   "execution_count": null,
   "id": "c9d0656b-d086-4caf-ae30-05eed2c39af8",
   "metadata": {
    "tags": []
   },
   "outputs": [],
   "source": [
    "melted_data[, Year := substr(Year, 1, 4)]"
   ]
  },
  {
   "cell_type": "code",
   "execution_count": null,
   "id": "e196b6f3-790d-4e7d-be76-db5f43238174",
   "metadata": {
    "tags": []
   },
   "outputs": [],
   "source": [
    "melted_data[Value %in% c(\"..\", \"-\", \"\", \"n/a\", \"No data\"), Value := NA]"
   ]
  },
  {
   "cell_type": "code",
   "execution_count": null,
   "id": "4da2626c-8d2b-4e44-9112-c4fcbbd55b23",
   "metadata": {
    "tags": []
   },
   "outputs": [],
   "source": [
    "melted_data[, Value := as.numeric(Value)]"
   ]
  },
  {
   "cell_type": "code",
   "execution_count": null,
   "id": "76cff4e8-18c2-49fc-83f1-dd105a307274",
   "metadata": {
    "tags": []
   },
   "outputs": [],
   "source": [
    "melted_data <- melted_data[!is.na(`Country Name`) & `Country Name` != \"\", ]"
   ]
  },
  {
   "cell_type": "code",
   "execution_count": null,
   "id": "fa132dcb-a9e5-47c6-a694-8dc27c7d512a",
   "metadata": {
    "tags": []
   },
   "outputs": [],
   "source": [
    "head(melted_data)"
   ]
  },
  {
   "cell_type": "code",
   "execution_count": null,
   "id": "def4f972-8eba-4903-a99e-81860b674d1c",
   "metadata": {
    "tags": []
   },
   "outputs": [],
   "source": [
    "unique_series_names <- unique(melted_data$`Series Name`)\n",
    "num_unique_series_names <- length(unique_series_names)\n",
    "\n",
    "print(num_unique_series_names)\n",
    "print(unique_series_names)"
   ]
  },
  {
   "cell_type": "code",
   "execution_count": null,
   "id": "ff67d9b6-147e-4004-9e94-6f76d3e5e5b4",
   "metadata": {
    "tags": []
   },
   "outputs": [],
   "source": [
    "setnames(melted_data, old = c(\"Series Name\", \"Country Name\", \"Country Code\", \"Series Code\"),\n",
    "         new = c(\"seriesName\", \"countryName\", \"countryCode\", \"seriesCode\"))\n",
    "\n",
    "head(melted_data)"
   ]
  },
  {
   "cell_type": "code",
   "execution_count": null,
   "id": "06969ccf-91e2-48f6-bbdc-11652ea037e1",
   "metadata": {
    "tags": []
   },
   "outputs": [],
   "source": [
    "grouped_data <- setorder(melted_data, countryName) "
   ]
  },
  {
   "cell_type": "code",
   "execution_count": null,
   "id": "1d7f331b-9f19-428b-b168-4dc3dec4a400",
   "metadata": {
    "tags": []
   },
   "outputs": [],
   "source": [
    "head(grouped_data)"
   ]
  },
  {
   "cell_type": "code",
   "execution_count": null,
   "id": "e8a6015e-0e18-44e0-9a23-612fd50c3c0d",
   "metadata": {
    "tags": []
   },
   "outputs": [],
   "source": [
    "grouped_data[, seriesName := paste0(seriesName, \" [\", seriesCode, \"]\")]\n",
    "\n",
    "grouped_data[, seriesCode := NULL]"
   ]
  },
  {
   "cell_type": "code",
   "execution_count": null,
   "id": "b079bbd8-3672-420a-b9f0-dafd83a0c2a2",
   "metadata": {
    "tags": []
   },
   "outputs": [],
   "source": [
    "pivoted_data <- grouped_data %>%\n",
    "  pivot_wider(names_from = seriesName,\n",
    "              values_from = Value,\n",
    "              values_fn = list(Value = function(x) if (length(x) > 1) mean(x, na.rm = TRUE) else x)) %>%\n",
    "  as.data.table()"
   ]
  },
  {
   "cell_type": "code",
   "execution_count": null,
   "id": "9c2c2736-f843-42c3-8527-9f2e0ba75eb8",
   "metadata": {
    "tags": []
   },
   "outputs": [],
   "source": [
    "head(pivoted_data)"
   ]
  },
  {
   "cell_type": "code",
   "execution_count": null,
   "id": "e9176557-7111-46a8-8a01-2035befb15e7",
   "metadata": {
    "tags": []
   },
   "outputs": [],
   "source": [
    "data <- pivoted_data %>% \n",
    "  rename(\n",
    "  \"country\" = \"countryName\",\n",
    "  \"code\" = \"countryCode\",\n",
    "  \"year\" = \"Year\",\n",
    "  \"Pop_Growth\" = \"Population growth (annual %) [SP.POP.GROW]\",\n",
    "  \"Poverty_Headcount\" = \"Poverty headcount ratio at national poverty lines (% of population) [SI.POV.NAHC]\",\n",
    "  \"Income_Low20\" = \"Income share held by lowest 20% [SI.DST.FRST.20]\",\n",
    "  \"Life_Expectancy\" = \"Life expectancy at birth, total (years) [SP.DYN.LE00.IN]\",\n",
    "  \"Water_Productivity\" = \"Water productivity, total (constant 2015 US$ GDP per cubic meter of total freshwater withdrawal) [ER.GDP.FWTL.M3.KD]\",\n",
    "  \"Energy_Use\" = \"Energy use (kg of oil equivalent per capita) [EG.USE.PCAP.KG.OE]\",\n",
    "  \"GDP_Growth\" = \"GDP growth (annual %) [NY.GDP.MKTP.KD.ZG]\",\n",
    "  \"Agriculture_GDP\" = \"Agriculture, forestry, and fishing, value added (% of GDP) [NV.AGR.TOTL.ZS]\",\n",
    "  \"Industry_GDP\" = \"Industry (including construction), value added (% of GDP) [NV.IND.TOTL.ZS]\",\n",
    "  \"Tech_Exports\" = \"High-technology exports (% of manufactured exports) [TX.VAL.TECH.MF.ZS]\",\n",
    "  \"Net_Migration\" = \"Net migration [SM.POP.NETM]\",\n",
    "  \"Remittances\" = \"Personal remittances, paid (current US$) [BM.TRF.PWKR.CD.DT]\",\n",
    "  \"GDP_Per_Capita\" = \"GDP per capita (current US$) [NY.GDP.PCAP.CD]\",\n",
    "  \"FDI\" = \"Foreign direct investment, net (BoP, current US$) [BN.KLT.DINV.CD]\",\n",
    "  \"Inflation\" = \"Inflation, consumer prices (annual %) [FP.CPI.TOTL.ZG]\",\n",
    "  \"Electricity_Access\" = \"Access to electricity (% of population) [EG.ELC.ACCS.ZS]\",\n",
    "  \"Freshwater_Withdrawals\" = \"Annual freshwater withdrawals, total (% of internal resources) [ER.H2O.FWTL.ZS]\",\n",
    "  \"Water_Stress\" = \"Level of water stress: freshwater withdrawal as a proportion of available freshwater resources [ER.H2O.FWST.ZS]\",\n",
    "  \"Protected_Areas\" = \"Terrestrial and marine protected areas (% of total territorial area) [ER.PTD.TOTL.ZS]\",\n",
    "  \"Unemployment\" = \"Unemployment, total (% of total labor force) (national estimate) [SL.UEM.TOTL.NE.ZS]\",\n",
    "  \"Gender_Equality\" = \"CPIA gender equality rating (1=low to 6=high) [IQ.CPA.GNDR.XQ]\",\n",
    "  \"Female_Labor_Force\" = \"Labor force, female (% of total labor force) [SL.TLF.TOTL.FE.ZS]\",\n",
    "  \"Health_Expenditure\" = \"Current health expenditure (% of GDP) [SH.XPD.CHEX.GD.ZS]\",\n",
    "  \"Renewable_Energy\" = \"Renewable energy consumption (% of total final energy consumption) [EG.FEC.RNEW.ZS]\",\n",
    "  \"Renewable_Electricity\" = \"Renewable electricity output (% of total electricity output) [EG.ELC.RNEW.ZS]\",\n",
    "  \"Forest_Area\" = \"Forest area (% of land area) [AG.LND.FRST.ZS]\",\n",
    "  \"Agricultural_Land\" = \"Agricultural land (% of land area) [AG.LND.AGRI.ZS]\",\n",
    "  \"Alt_Nuclear_Energy\" = \"Alternative and nuclear energy (% of total energy use) [EG.USE.COMM.CL.ZS]\",\n",
    "  \"Energy_Depletion\" = \"Adjusted savings: energy depletion (% of GNI) [NY.ADJ.DNGY.GN.ZS]\",\n",
    "  \"PM25_Exposure\" = \"PM2.5 air pollution, mean annual exposure (micrograms per cubic meter) [EN.ATM.PM25.MC.M3]\",\n",
    "  \"Resource_Depletion\" = \"Adjusted savings: natural resources depletion (% of GNI) [NY.ADJ.DRES.GN.ZS]\",\n",
    "  \"Forest_Depletion\" = \"Adjusted savings: net forest depletion (% of GNI) [NY.ADJ.DFOR.GN.ZS]\",\n",
    "  \"Gini_Index\" = \"Gini index [SI.POV.GINI]\",\n",
    "  \"Business_Environment\" = \"CPIA business regulatory environment rating (1=low to 6=high) [IQ.CPA.BREG.XQ]\",\n",
    "  \"Social_Inclusion\" = \"CPIA policies for social inclusion/equity cluster average (1=low to 6=high) [IQ.CPA.SOCI.XQ]\",\n",
    "  \"Transparency\" = \"CPIA transparency, accountability, and corruption in the public sector rating (1=low to 6=high) [IQ.CPA.TRAN.XQ]\",\n",
    "  \"Human_Resources\" = \"CPIA building human resources rating (1=low to 6=high) [IQ.CPA.HRES.XQ]\",\n",
    "  \"GHG_Ex_LULUCF\" = \"Total greenhouse gas emissions excluding LULUCF (% change from 1990) [EN.GHG.TOT.ZG.AR5]\",\n",
    "  \"GHG_Incl_LULUCF\" = \"Total greenhouse gas emissions including LULUCF (Mt CO2e) [EN.GHG.ALL.LU.MT.CE.AR5]\",\n",
    "  \"CH4_Emissions\" = \"Methane (CH4) emissions (total) excluding LULUCF (% change from 1990) [EN.GHG.CH4.ZG.AR5]\",\n",
    "  \"CO2_Emissions\" = \"Carbon dioxide (CO2) emissions (total) excluding LULUCF (% change from 1990) [EN.GHG.CO2.ZG.AR5]\",\n",
    "  \"Fossil_Fuel_Use\" = \"Fossil fuel energy consumption (% of total) [EG.USE.COMM.FO.ZS]\",\n",
    "  \"Female_Male_Labor\" = \"Ratio of female to male labor force participation rate (%) (modeled ILO estimate) [SL.TLF.CACT.FM.ZS]\",\n",
    "  \"Primary_Enrollment\" = \"School enrollment, primary, private (% of total primary) [SE.PRM.PRIV.ZS]\",\n",
    "  \"Human_Capital\" = \"Human capital index (HCI) (scale 0-1) [HD.HCI.OVRL]\"\n",
    ")"
   ]
  },
  {
   "cell_type": "code",
   "execution_count": null,
   "id": "59308d0f-8f25-4ba4-9a8f-990edd6609a5",
   "metadata": {
    "tags": []
   },
   "outputs": [],
   "source": [
    "str(data)"
   ]
  },
  {
   "cell_type": "code",
   "execution_count": null,
   "id": "05895ae8-8c4a-4263-b355-17db8ab84902",
   "metadata": {
    "tags": []
   },
   "outputs": [],
   "source": [
    "data %>%\n",
    "  arrange(country, year)%>% datatable(\n",
    "  filter = \"top\",\n",
    "  options = list(pageLength = 20)\n",
    ")"
   ]
  },
  {
   "cell_type": "code",
   "execution_count": null,
   "id": "7a12ab18-c893-40e3-b893-a637cf134438",
   "metadata": {
    "tags": []
   },
   "outputs": [],
   "source": [
    "colSums(is.na(data))"
   ]
  },
  {
   "cell_type": "code",
   "execution_count": null,
   "id": "521962a8-9d16-41da-aaa4-16786f3d9532",
   "metadata": {
    "tags": []
   },
   "outputs": [],
   "source": [
    "na_summary <- data %>%\n",
    "  group_by(country) %>%\n",
    "  summarise_all(~ sum(is.na(.))) %>%\n",
    "datatable(\n",
    "  filter = \"top\",\n",
    "  options = list(pageLength = 20)\n",
    ")\n",
    "\n",
    "na_summary"
   ]
  },
  {
   "cell_type": "code",
   "execution_count": null,
   "id": "deeb85fd-2c19-49aa-bedd-2338155deb80",
   "metadata": {
    "tags": []
   },
   "outputs": [],
   "source": [
    "na_summary <- colSums(is.na(data))\n",
    "\n",
    "all_na_columns <- names(na_summary[na_summary == nrow(data)])\n",
    "\n",
    "na_percentage <- na_summary / nrow(data) * 100\n",
    "\n",
    "print(na_summary)\n",
    "print(paste(\"NA filled Columns:\", paste(all_na_columns, collapse = \", \")))\n",
    "print(\"Missing Data %:\")\n",
    "print(na_percentage)"
   ]
  },
  {
   "cell_type": "code",
   "execution_count": null,
   "id": "480a99c0-91d8-4df1-b0e4-4ef97baa9268",
   "metadata": {
    "tags": []
   },
   "outputs": [],
   "source": [
    "country_na_summary <- data[, lapply(.SD, function(x) mean(is.na(x)) > 0.8), \n",
    "                                   by = .(country, code)]\n",
    "\n",
    "country_na_count <- country_na_summary[, .(High_NA_Count = rowSums(.SD)), \n",
    "                                       by = .(country, code), \n",
    "                                       .SDcols = !c(\"country\", \"code\")]\n",
    "                                    \n",
    "country_na_count%>%\n",
    "datatable(\n",
    "  filter = \"top\",\n",
    "  options = list(pageLength = 20)\n",
    ")"
   ]
  },
  {
   "cell_type": "markdown",
   "id": "5f4cffdc-ffe4-4993-b61d-25fd06d6d2c3",
   "metadata": {},
   "source": [
    "Since there are too many NA values, it was thought that removing countries with too many NA values would give a more accurate result for the analysis."
   ]
  },
  {
   "cell_type": "code",
   "execution_count": null,
   "id": "95ef3188-c7d3-4771-afa9-904caffc25e6",
   "metadata": {
    "tags": []
   },
   "outputs": [],
   "source": [
    "high_na_countries <- country_na_count[High_NA_Count > 20, country]\n",
    "\n",
    "data2 <- data[!country %in% high_na_countries]"
   ]
  },
  {
   "cell_type": "code",
   "execution_count": null,
   "id": "f6c3b572-b7fb-4599-b9af-015d1c652c66",
   "metadata": {
    "tags": []
   },
   "outputs": [],
   "source": [
    "colSums(is.na(data2))\n",
    "nrow(data2)"
   ]
  },
  {
   "cell_type": "markdown",
   "id": "f9cdb278-1afd-449f-aa46-0d94407bdd98",
   "metadata": {},
   "source": [
    "Still, not enough to make an efficient analysis. Some other arrangements should be made."
   ]
  },
  {
   "cell_type": "code",
   "execution_count": null,
   "id": "2c57d762-3561-42ca-a74e-a7801def6258",
   "metadata": {
    "tags": []
   },
   "outputs": [],
   "source": [
    "na_summary2 <- colSums(is.na(data2))\n",
    "\n",
    "all_na_columns2 <- names(na_summary2[na_summary2 == nrow(data2)])\n",
    "\n",
    "na_percentage2 <- na_summary2 / nrow(data2) * 100\n",
    "\n",
    "print(paste(\"NA filled Columns:\", paste(all_na_columns2, collapse = \", \")))\n",
    "print(\"Missing Data %:\")\n",
    "print(na_percentage2)"
   ]
  },
  {
   "cell_type": "markdown",
   "id": "6adfbff1-abe7-4589-9027-ec251b727d58",
   "metadata": {},
   "source": [
    "**There are still too many NA values, but the analysis needs to be continued. Therefore, various methods are used to fill the NA values, with efforts made not to distort the original data too much.** "
   ]
  },
  {
   "cell_type": "markdown",
   "id": "24a5bccb-9ffd-42e9-a665-bc4a24a36afc",
   "metadata": {},
   "source": [
    "## Dealing with NA"
   ]
  },
  {
   "cell_type": "markdown",
   "id": "915b0524-5fa6-49eb-be9b-8f51c2132041",
   "metadata": {},
   "source": [
    "Different methods were applied to handle missing values (NA). For columns with less than 40% missing data (critical_cols), forward and backward filling were used, as this method efficiently imputes small gaps by carrying over the nearest existing value, preserving the overall distribution and minimizing data distortion. However, for columns with 40% to 80% missing data (moderate_cols), the MICE (Multiple Imputation by Chained Equations) method was used. This approach, being more sophisticated, is better suited for handling larger gaps, as it estimates missing values by modeling the relationship between variables. Since the focus of this course is more on the data analysis process, this approach was followed to continue the analysis, even though it may harm the reliability of the data."
   ]
  },
  {
   "cell_type": "code",
   "execution_count": null,
   "id": "bde811a0-986e-411b-a9fb-16dacb6bc329",
   "metadata": {
    "tags": []
   },
   "outputs": [],
   "source": [
    "setDT(data2)\n",
    "na_percent <- sapply(data2, function(x) mean(is.na(x)) * 100)\n",
    "\n",
    "# group according to NA values\n",
    "critical_cols <- names(na_percent[na_percent < 40])  \n",
    "moderate_cols <- names(na_percent[na_percent >= 40 & na_percent <= 80]) \n",
    "high_na_cols <- names(na_percent[na_percent > 80]) \n",
    "\n",
    "num_cols <- names(data2)[sapply(data, is.numeric)]\n",
    "char_cols <- names(data2)[sapply(data, is.character)]\n",
    "\n",
    "# Forward-backward fill \n",
    "for (col in critical_cols) {\n",
    "  data2[, (col) := na.locf(get(col), na.rm = FALSE)]\n",
    "  data2[, (col) := na.locf(get(col), fromLast = TRUE, na.rm = FALSE)]\n",
    "}\n",
    "\n",
    "# MICE for moderate cols\n",
    "mice_subset <- data2[, c(\"country\", \"code\", moderate_cols), with = FALSE]\n",
    "\n",
    "mice_imputed <- mice(mice_subset, m = 5, method = 'pmm', maxit = 10)\n",
    "\n",
    "mice_completed <- as.data.table(complete(mice_imputed))\n",
    "\n",
    "data2[, (moderate_cols) := mice_completed[, moderate_cols, with = FALSE]]\n",
    "\n",
    "summary(data)"
   ]
  },
  {
   "cell_type": "code",
   "execution_count": null,
   "id": "1fbd749e-379f-41ca-953a-76f92dc2b915",
   "metadata": {
    "tags": []
   },
   "outputs": [],
   "source": [
    "colSums(is.na(data2))"
   ]
  },
  {
   "cell_type": "markdown",
   "id": "c36499cd-7109-455a-8e53-a8c84652b9c3",
   "metadata": {},
   "source": [
    "## Data Analysis"
   ]
  },
  {
   "cell_type": "code",
   "execution_count": null,
   "id": "23526d76-250f-4327-a97a-335d0e546fb8",
   "metadata": {
    "tags": []
   },
   "outputs": [],
   "source": [
    "str(data2)"
   ]
  },
  {
   "cell_type": "code",
   "execution_count": null,
   "id": "df7de1b6-a6cb-47c4-b7ae-f2ccedbb4af9",
   "metadata": {
    "tags": []
   },
   "outputs": [],
   "source": [
    "data2 %>% \n",
    "  keep(is.numeric) %>% \n",
    "  summarise(across(everything(), list(\n",
    "    n = ~sum(!is.na(.)),\n",
    "    mean = ~round(mean(., na.rm = TRUE), 2),\n",
    "    sd = ~round(sd(., na.rm = TRUE), 2),\n",
    "    median = ~round(median(., na.rm = TRUE), 2),\n",
    "    min = ~round(min(., na.rm = TRUE), 2),\n",
    "    max = ~round(max(., na.rm = TRUE), 2)\n",
    "  ), .names = \"{.col}_{.fn}\"))"
   ]
  },
  {
   "cell_type": "markdown",
   "id": "e203c82c-72cd-4b82-8239-528bc8dc2a2c",
   "metadata": {},
   "source": [
    "## Cluster"
   ]
  },
  {
   "cell_type": "markdown",
   "id": "5afed88c-6fc4-4bfd-a0ff-daab40b265dd",
   "metadata": {},
   "source": [
    "This code clusters countries based on development indicators. First, key indicators are selected. Rows with missing data are removed to ensure accuracy. The data (excluding country and code) is scaled for equal contribution to clustering. The elbow method helps determine the optimal number of clusters by plotting WSS values. K-means clustering is performed with 3 clusters, and the results are saved in a table linking each country to its cluster. The cluster labels are then merged with the main dataset for further analysis or visualization."
   ]
  },
  {
   "cell_type": "code",
   "execution_count": null,
   "id": "ba96cfda-19b1-4f38-be0e-7b3559dc7ee0",
   "metadata": {
    "tags": []
   },
   "outputs": [],
   "source": [
    "development_indicators <- data2[, .(\n",
    "  country, code, GDP_Per_Capita, GDP_Growth, FDI, Industry_GDP, Agriculture_GDP,\n",
    "  Net_Migration, Inflation, Life_Expectancy, Electricity_Access,\n",
    "  Primary_Enrollment, Female_Labor_Force, Gini_Index,\n",
    "  Human_Capital, Gender_Equality, Transparency, Social_Inclusion\n",
    ")]\n",
    "\n",
    "development_indicators <- na.omit(development_indicators)\n",
    "\n",
    "scaled_data <- scale(development_indicators[, -c(\"country\", \"code\")])\n",
    "\n",
    "wss <- function(k) kmeans(scaled_data, k, nstart = 10)$tot.withinss\n",
    "k.values <- 1:10\n",
    "wss_values <- sapply(k.values, wss)\n",
    "plot(k.values, wss_values, type = \"b\", pch = 19)\n",
    "\n",
    "set.seed(123)\n",
    "clusters <- kmeans(scaled_data, centers = 3) \n",
    "\n",
    "clustered_data <- data.table(\n",
    "  country = development_indicators$country,\n",
    "  Cluster = clusters$cluster\n",
    ")\n",
    "\n",
    "data3 <- copy(data2)\n",
    "\n",
    "data3[clustered_data, on = \"country\", Cluster := i.Cluster]"
   ]
  },
  {
   "cell_type": "markdown",
   "id": "eb77551e-ef6d-47e0-9a2a-29ad43a9568e",
   "metadata": {},
   "source": [
    "Above graph shows the elbow method, suggesting the optimal number of clusters is around 3 or 4, where the WSS starts to level off."
   ]
  },
  {
   "cell_type": "code",
   "execution_count": null,
   "id": "d9c02617-69b4-4d4e-b1ba-ef6c7f58cc2b",
   "metadata": {
    "tags": []
   },
   "outputs": [],
   "source": [
    "data3[, .N, by = Cluster]"
   ]
  },
  {
   "cell_type": "code",
   "execution_count": null,
   "id": "4f2dac29-af42-4cbc-b796-27e8d8ab69b3",
   "metadata": {
    "tags": []
   },
   "outputs": [],
   "source": [
    "data3[is.na(Cluster), unique(country)]"
   ]
  },
  {
   "cell_type": "markdown",
   "id": "f914c232-debe-4800-9c09-4b8a5ab61266",
   "metadata": {},
   "source": [
    "Since these NA values are belong to just some island countries, they will be ignored and evaluated in another cluster."
   ]
  },
  {
   "cell_type": "code",
   "execution_count": null,
   "id": "6a3c23d8-7d9c-4007-962e-a231257fb4c4",
   "metadata": {
    "tags": []
   },
   "outputs": [],
   "source": [
    "data3[is.na(Cluster), Cluster := 0]"
   ]
  },
  {
   "cell_type": "code",
   "execution_count": null,
   "id": "a124caf8-ee44-4332-a057-551f87181def",
   "metadata": {
    "tags": []
   },
   "outputs": [],
   "source": [
    "data3[, .N, by = Cluster]"
   ]
  },
  {
   "cell_type": "code",
   "execution_count": null,
   "id": "c8c4adeb-cffa-438a-b644-96eb8fec9774",
   "metadata": {
    "tags": []
   },
   "outputs": [],
   "source": [
    "cluster_summary <- data3[, lapply(.SD, mean, na.rm = TRUE), by = Cluster,\n",
    "                         .SDcols = c(\"GDP_Per_Capita\", \"GDP_Growth\", \"FDI\", \"Industry_GDP\", \"Agriculture_GDP\",\n",
    "  \"Net_Migration\", \"Inflation\", \"Life_Expectancy\", \"Electricity_Access\",\n",
    "  \"Primary_Enrollment\", \"Female_Labor_Force\", \"Female_Male_Labor\", \"Gini_Index\",\n",
    "  \"Human_Capital\", \"Gender_Equality\", \"Transparency\", \"Social_Inclusion\")]\n",
    "print(cluster_summary)"
   ]
  },
  {
   "cell_type": "markdown",
   "id": "8c873d2a-cd4f-42f0-a3ac-1981d09839c3",
   "metadata": {},
   "source": [
    "As a result of the cluster analysis, four different groups were identified. Cluster 1 most likely represents developed countries with high GDP per capita (20,691 USD), full electricity access (98 percent), long life expectancy (75.6 years), and net migration (+43,549). These countries have a high female labor force participation rate (44.95%) and moderate transparency (2.99). Cluster 2 represents less developed countries with indicators such as low GDP per capita (USD 1,382), limited access to electricity (45 percent), short life expectancy (57.1 years), high inflation (38 percent), and net emigration (-7,655). In this cluster, the female labor force participation rate remains moderate (45.9%). Cluster 3 represents developing countries with medium GDP (7,001 USD), good access to electricity (88 percent), relatively long life expectancy (70.6 years), and high emigration (-38,846). Moreover, in this cluster, foreign investments are negative and capital outflows are observed. Cluster 0 is similar to Cluster 3 in terms of GDP per capita (USD 8,416) and life expectancy (68.7 years), but is slightly better off and represents upper-middle-income developing countries. In these countries, electricity access (82.6 percent) and inflation (13 percent) are moderate, and primary school enrolment is high (19.86). In general, the socio-economic development levels of countries can be grouped as follows:\n",
    "- **Cluster 1 →** Developed Countries, \n",
    "- **Cluster 2 →** Less Developed Countries, \n",
    "- **Cluster 3 →** Developing Countries, \n",
    "- **Cluster 0 →** Upper-Middle Income Countries."
   ]
  },
  {
   "cell_type": "markdown",
   "id": "d30c4c7e-bad8-435a-999e-4c83ed1921fa",
   "metadata": {},
   "source": [
    "### Evaluating these clusters in a world map\n",
    "In order to use a world map, the latitude and longitude values of each country are needed. These values are taken from the WDI dataset, but some manual editing is required because the names of certain countries do not match."
   ]
  },
  {
   "cell_type": "code",
   "execution_count": null,
   "id": "238bc65d-ddfe-4c88-8dd4-82d811cfc197",
   "metadata": {
    "tags": []
   },
   "outputs": [],
   "source": [
    "wdi_country_info <- as.data.table(WDI::WDI(country = \"all\", indicator = \"NY.GDP.PCAP.CD\", extra = TRUE))\n",
    "\n",
    "wdi_country_info <- wdi_country_info[!is.na(region), .(country, region, income, latitude, longitude)]\n",
    "\n",
    "wdi_country_info[country == \"Vietnam\", country := \"Viet Nam\"]\n",
    "wdi_country_info[country == \"Czech Republic\", country := \"Czechia\"]\n",
    "\n",
    "unique_country_data3 <- unique(data3[, .(country)])\n",
    "\n",
    "wdi_country_info <- wdi_country_info[country %in% unique_country_data3$country]\n",
    "\n",
    "data4 <- data3[wdi_country_info, on = \"country\", `:=`(\n",
    "  region = i.region,\n",
    "  income = i.income,\n",
    "  latitude = i.latitude,\n",
    "  longitude = i.longitude\n",
    ")]"
   ]
  },
  {
   "cell_type": "code",
   "execution_count": null,
   "id": "c167fbdd-ec93-4b82-80c7-56f706100a24",
   "metadata": {
    "tags": []
   },
   "outputs": [],
   "source": [
    "head(data4)"
   ]
  },
  {
   "cell_type": "markdown",
   "id": "7be3ee38-4a74-4981-bfc3-d52269f9e176",
   "metadata": {},
   "source": [
    "For some further analysis, columns are edited."
   ]
  },
  {
   "cell_type": "code",
   "execution_count": null,
   "id": "f85d638c-f82f-46c1-9e26-7cb9399eb1b2",
   "metadata": {
    "tags": []
   },
   "outputs": [],
   "source": [
    "factor_cols <- c(\"country\", \"code\", \"year\", \"region\", \"income\")\n",
    "\n",
    "numeric_cols <- c(\"latitude\", \"longitude\")\n",
    "\n",
    "data4[, (factor_cols) := lapply(.SD, as.factor), .SDcols = factor_cols]\n",
    "\n",
    "data4[, (numeric_cols) := lapply(.SD, as.numeric), .SDcols = numeric_cols]\n",
    "\n",
    "str(data4)"
   ]
  },
  {
   "cell_type": "markdown",
   "id": "dfc8f234-f728-4ebc-8701-67bd95278102",
   "metadata": {},
   "source": [
    "### Cluster Values in the Map"
   ]
  },
  {
   "cell_type": "code",
   "execution_count": null,
   "id": "e11abbd4-2eb5-4ff2-bd2b-6b3f30c30cf7",
   "metadata": {
    "tags": []
   },
   "outputs": [],
   "source": [
    "plot_geo(data4, locationmode = \"ISO-3\") %>%\n",
    "  add_trace(\n",
    "    z = ~Cluster, text = ~country,\n",
    "    locations = ~code, color = ~Cluster\n",
    "  ) %>%\n",
    "  colorbar(title = \"Cluster\") %>%\n",
    "  layout(\n",
    "    geo = list(showframe = FALSE)\n",
    "  )"
   ]
  },
  {
   "cell_type": "markdown",
   "id": "34291f53-bfca-4b69-951a-89c3c94d0632",
   "metadata": {},
   "source": [
    "The map visually represents the clustering of countries based on development indicators. As it is given above, cluster analysis:  \n",
    "\n",
    "- **Cluster 1 (Blue)** – Represents developed countries with high GDP per capita, long life expectancy, and full electricity access. These countries attract migration.  \n",
    "- **Cluster 2 (Green)** – Represents less developed countries with low GDP, poor electricity access, and shorter life expectancy. These countries often face high inflation and emigration.  \n",
    "- **Cluster 3 (Yellow)** – Indicates developing countries with moderate GDP, good electricity access, and average life expectancy. However, they experience negative net migration.  \n",
    "- **Cluster 0 (Purple)** – Suggests upper-middle-income countries with improving indicators but facing economic challenges.  \n",
    "\n",
    "However, some inconsistencies appear when comparing the results to the expected patterns. For example, while Cluster 1 generally aligns with developed countries, a few regions classified under it might have been expected to fall into lower development categories. Similarly, some countries in Cluster 3 may not fully reflect the characteristics of developing countries.\n",
    "\n",
    "These discrepancies could stem from data gaps, particularly for less developed countries, or from the methods used to handle missing values (such as forward-backward filling or MICE). The imputation process may have introduced bias, affecting the clustering outcome. This highlights the limitations of relying on incomplete data for classification."
   ]
  },
  {
   "cell_type": "markdown",
   "id": "ee2b3d66-649a-43ab-82e5-b0cc02e04176",
   "metadata": {},
   "source": [
    "## Cluster for Environmental Analysis\n",
    "\n",
    "It is believed that accurate results may not have been produced by the initial clustering model because the number of clusters was fixed at \\( k = 3 \\) without being fully aligned with the outcome of the elbow method. To address this, the elbow method was adjusted to identify the optimal cluster size (\\( k = 4 \\)), ensuring that the natural structure of the data was better reflected in the clustering process. Additionally, it was observed that too many variables were included in the initial cluster model, potentially leading to redundancy and imbalance. To mitigate this, the number of variables was reduced by focusing on key economic indicators. These adjustments were aimed at preventing over- or under-clustering, resulting in groupings that were more balanced and meaningful."
   ]
  },
  {
   "cell_type": "code",
   "execution_count": null,
   "id": "57ca31a2-0bc4-4652-bb71-b3dd56d6e848",
   "metadata": {
    "tags": []
   },
   "outputs": [],
   "source": [
    "# Extracting key economic and development indicators from the dataset for development cluster\n",
    "development_indicators <- data2[, .(\n",
    "  country, code, GDP_Per_Capita, GDP_Growth, FDI, Industry_GDP, \n",
    "  Agriculture_GDP, Net_Migration, Inflation, Life_Expectancy,\n",
    "  Electricity_Access, Primary_Enrollment, Female_Labor_Force,\n",
    "  Gini_Index, Human_Capital\n",
    ")]\n",
    "\n",
    "development_indicators <- na.omit(development_indicators)\n",
    "\n",
    "scaled_dev_data <- scale(development_indicators[, -c(\"country\", \"code\")])\n",
    "\n",
    "wss_dev <- function(k) {\n",
    "  kmeans(scaled_dev_data, k, nstart = 10)$tot.withinss \n",
    "}\n",
    "k.values <- 1:10 \n",
    "wss_values_dev <- sapply(k.values, wss_dev) \n",
    "\n",
    "plot(k.values, wss_values_dev, type = \"b\", pch = 19,\n",
    "     xlab = \"Number of Clusters (K)\",\n",
    "     ylab = \"Total Within-Cluster Sum of Squares (WSS)\")\n",
    "\n",
    "set.seed(123)\n",
    "dev_clusters <- kmeans(scaled_dev_data, centers = 4)\n",
    "\n",
    "dev_clustered_data <- data.table(\n",
    "  country = development_indicators$country,\n",
    "  Dev_Cluster = dev_clusters$cluster\n",
    ")\n",
    "\n",
    "#Environmental Cluster\n",
    "environmental_indicators <- data2[, .(\n",
    "  country, code, Renewable_Energy, Fossil_Fuel_Use, CO2_Emissions,\n",
    "  CH4_Emissions, GHG_Incl_LULUCF, Forest_Area, Water_Stress,\n",
    "  Alt_Nuclear_Energy, PM25_Exposure, Resource_Depletion\n",
    ")]\n",
    "\n",
    "environmental_indicators <- na.omit(environmental_indicators)\n",
    "\n",
    "scaled_env_data <- scale(environmental_indicators[, -c(\"country\", \"code\")])\n",
    "\n",
    "wss_env <- function(k) {\n",
    "  kmeans(scaled_env_data, k, nstart = 10)$tot.withinss\n",
    "}\n",
    "wss_values_env <- sapply(k.values, wss_env)\n",
    "\n",
    "plot(k.values, wss_values_env, type = \"b\", pch = 19,\n",
    "     xlab = \"Number of Clusters (K)\",\n",
    "     ylab = \"Total Within-Cluster Sum of Squares (WSS)\")\n",
    "\n",
    "set.seed(123)\n",
    "env_clusters <- kmeans(scaled_env_data, centers = 5)\n",
    "\n",
    "env_clustered_data <- data.table(\n",
    "  country = environmental_indicators$country,\n",
    "  Env_Cluster = env_clusters$cluster\n",
    ")\n",
    "\n",
    "data5 <- copy(data2)\n",
    "\n",
    "data5[dev_clustered_data, on = \"country\", Dev_Cluster := i.Dev_Cluster]\n",
    "\n",
    "data5[env_clustered_data, on = \"country\", Env_Cluster := i.Env_Cluster]\n",
    "\n",
    "cross_tab <- table(data5$Dev_Cluster, data5$Env_Cluster)\n",
    "print(cross_tab)\n",
    "\n",
    "correlation_analysis <- cor(data5[, .(\n",
    "  GDP_Per_Capita, Renewable_Energy, Fossil_Fuel_Use,\n",
    "  CO2_Emissions, CH4_Emissions, Forest_Area, Water_Stress\n",
    ")], use = \"complete.obs\")\n",
    "print(correlation_analysis)"
   ]
  },
  {
   "cell_type": "markdown",
   "id": "c4e5aaff-4e18-42ee-8400-6e1acb4227d1",
   "metadata": {},
   "source": [
    "In this cluster analysis, separate clusters were created for environmental and development indicators to demonstrate the relationship between the two contexts. First, the appropriate number of clusters is determined by using the elbow method and then the relationship between the clusters is tried to be observed with the correlation matrix. The correlation matrix shows that cluster analysis reveals that highly developed countries (Dev_Cluster 1) are concentrated in environmentally moderate or industrialized clusters, while developing countries (Dev_Cluster 2 and 3) show different environmental performance. Lower development clusters (Dev_Cluster 3) are associated with higher environmental stress. The correlation analysis highlights weak relationships between GDP per capita and fossil fuel use (0.15) or renewable energy (-0.33), pointing to various energy strategies. Moderate overlaps in CO2 and CH4 emissions (0.28) reflect industrial and agricultural impacts."
   ]
  },
  {
   "cell_type": "code",
   "execution_count": null,
   "id": "7ed3b1eb-0191-49f9-8b23-17e19ea91220",
   "metadata": {
    "tags": []
   },
   "outputs": [],
   "source": [
    "data5[, .N, by = Dev_Cluster]\n",
    "data5[, .N, by = Env_Cluster]"
   ]
  },
  {
   "cell_type": "code",
   "execution_count": null,
   "id": "14fc72db-0663-463f-9769-29da0ad1dc97",
   "metadata": {
    "tags": []
   },
   "outputs": [],
   "source": [
    "data5[is.na(Dev_Cluster), unique(country)]"
   ]
  },
  {
   "cell_type": "markdown",
   "id": "7d1be709-6cd5-49bf-b3d7-142282e87fda",
   "metadata": {},
   "source": [
    "Since these NA values are belong to just some island countries, I will ignore them again and evaluate them in another cluster."
   ]
  },
  {
   "cell_type": "code",
   "execution_count": null,
   "id": "4f505515-c3d7-4a83-98d1-9f1df2d52ac0",
   "metadata": {
    "tags": []
   },
   "outputs": [],
   "source": [
    "data5[is.na(Dev_Cluster), Dev_Cluster := 0]"
   ]
  },
  {
   "cell_type": "code",
   "execution_count": null,
   "id": "70461706-de07-447b-a9a0-e361aad5e8f5",
   "metadata": {
    "tags": []
   },
   "outputs": [],
   "source": [
    "data5[, .N, by = Dev_Cluster]"
   ]
  },
  {
   "cell_type": "code",
   "execution_count": null,
   "id": "ff19aaca-f054-4b8f-bb7b-c9672d9becf3",
   "metadata": {
    "tags": []
   },
   "outputs": [],
   "source": [
    "# Cluster Summaries\n",
    "env_cluster_summary <- data5[, lapply(.SD, mean, na.rm = TRUE), by = Env_Cluster,\n",
    "                             .SDcols = c(\"Renewable_Energy\", \"Fossil_Fuel_Use\", \n",
    "                                         \"CO2_Emissions\", \"CH4_Emissions\", \n",
    "                                         \"GHG_Incl_LULUCF\", \"Forest_Area\", \n",
    "                                         \"Water_Stress\", \"PM25_Exposure\")]\n",
    "print(env_cluster_summary)\n",
    "\n",
    "dev_cluster_summary <- data5[, lapply(.SD, mean, na.rm = TRUE), by = Dev_Cluster,\n",
    "                             .SDcols = c(\"GDP_Per_Capita\", \"GDP_Growth\", \n",
    "                                         \"Life_Expectancy\", \"Electricity_Access\",\n",
    "                                         \"Primary_Enrollment\", \"Female_Labor_Force\",\n",
    "                                         \"Gini_Index\")]\n",
    "print(dev_cluster_summary)\n"
   ]
  },
  {
   "cell_type": "markdown",
   "id": "32f5f16a-d651-4edb-a0db-452228413bff",
   "metadata": {},
   "source": [
    "With this cluster analysis, different patterns between environmental sustainability and socioeconomic development can be observed across clusters. Developed countries (Cluster 1) have the highest renewable energy use (61.28 percent), GDP per capita, and life expectancy (78.02) but are still significantly dependent on fossil fuels (47.35 percent) and face moderate emissions. In contrast, less developed countries (Cluster 5) exhibit low renewable energy use (16.68 percent), high fossil fuel dependence (76.41 percent), severe water stress (587.34), and limited GDP per capita ($1,854.16). Transition clusters (3 and 4) show mixed features, negating moderate renewable energy use with fossil fuel dependency and changing environmental pressures. These findings suggest that developed countries are not in a good position in terms of their sustainability policies. It can be argued that special policies are needed to increase sustainability and address inequalities between development stages. "
   ]
  },
  {
   "cell_type": "code",
   "execution_count": null,
   "id": "a5e913bc-da78-4747-9994-0d94bef5f003",
   "metadata": {
    "tags": []
   },
   "outputs": [],
   "source": [
    "plot_geo(data5, locationmode = \"ISO-3\") %>%\n",
    "  add_trace(\n",
    "    z = ~Dev_Cluster, text = ~country,\n",
    "    locations = ~code, color = ~Dev_Cluster\n",
    "  ) %>%\n",
    "  colorbar(title = \"Development Cluster\") %>%\n",
    "  layout(\n",
    "    geo = list(showframe = FALSE)\n",
    "  )\n",
    "\n",
    "plot_geo(data5, locationmode = \"ISO-3\") %>%\n",
    "  add_trace(\n",
    "    z = ~Env_Cluster, text = ~country,\n",
    "    locations = ~code, color = ~Env_Cluster\n",
    "  ) %>%\n",
    "  colorbar(title = \"Environmental Cluster\") %>%\n",
    "  layout(\n",
    "    geo = list(showframe = FALSE)\n",
    "  )\n"
   ]
  },
  {
   "cell_type": "markdown",
   "id": "45fc7e90-3581-4167-8337-6fba4bd1e4a3",
   "metadata": {},
   "source": [
    "When cluster analyses are placed on the world map for observation, some unexpected situations are encountered. The new cluster on the level of development of countries provides more consistent information, but the result of the environmental cluster is unexpected. With the information obtained from the cluster summary, it would be correct to rank the environmental clusters from best to worst as follows: Cluster 1 is the most sustainable with the highest renewable energy use (61.28%), the lowest fossil fuel dependency (47.35%), minimal water stress and the largest forest area. Cluster 4 and 2 follow with moderate renewable energy use and relatively balanced environmental indicators. Cluster 3 faces higher emissions and moderate water stress despite moderate renewable energy use. Finally, Cluster 5 reflects severe challenges, ranking worst with the lowest renewable energy use (16.68 percent), highest fossil fuel dependency (76.41 percent), extreme water stress, and minimal forest area. In this respect, it was surprising to find several African and Asian countries in the best environmental cluster. This may be due to the lack of data for these regions and the methods used to cope with the lack of data. A more expected result is that most of the countries defined as developed are observed in clusters 2 and 4."
   ]
  },
  {
   "cell_type": "markdown",
   "id": "3ab4499f-4182-4d41-ab29-846ab69269ac",
   "metadata": {},
   "source": [
    "## Regression"
   ]
  },
  {
   "cell_type": "code",
   "execution_count": null,
   "id": "70df2e04-6c29-41c5-915e-ec92d9792ca6",
   "metadata": {
    "tags": []
   },
   "outputs": [],
   "source": [
    "reg_model <- lm(GDP_Per_Capita ~ GHG_Incl_LULUCF + Water_Stress + PM25_Exposure + Protected_Areas +\n",
    "                Renewable_Energy + Fossil_Fuel_Use + Water_Productivity + Energy_Use + Freshwater_Withdrawals + \n",
    "                Energy_Depletion + Resource_Depletion + Forest_Area, data = data5)\n",
    "\n",
    "summary(reg_model)"
   ]
  },
  {
   "cell_type": "code",
   "execution_count": null,
   "id": "94e5a12e-7675-46e1-952b-2339b4da9c6e",
   "metadata": {},
   "outputs": [],
   "source": [
    "geometric_mean <- function(x) {\n",
    "  exp(mean(log(x), na.rm = TRUE))\n",
    "}\n",
    "\n",
    "development_indicators <- data2[, .(\n",
    "  country, code, GDP_Per_Capita, GDP_Growth, FDI, Industry_GDP, \n",
    "  Agriculture_GDP, Net_Migration, Inflation, Life_Expectancy,\n",
    "  Electricity_Access, Primary_Enrollment, Female_Labor_Force,\n",
    "  Gini_Index, Human_Capital\n",
    ")]\n",
    "\n",
    "development_indicators[, target_variable := apply(.SD, 1, geometric_mean), \n",
    "                       .SDcols = c(\"GDP_Per_Capita\", \"GDP_Growth\", \"FDI\", \"Industry_GDP\", \n",
    "                                   \"Agriculture_GDP\", \"Net_Migration\", \"Inflation\", \"Life_Expectancy\",\n",
    "                                   \"Electricity_Access\", \"Primary_Enrollment\", \"Female_Labor_Force\",\n",
    "                                   \"Gini_Index\", \"Human_Capital\")]\n",
    "\n",
    "data6 <- merge(data5, development_indicators[, .(country, target_variable)], by = \"country\", allow.cartesian = TRUE)\n",
    "\n",
    "data6[, target_category := ifelse(target_variable <= median(target_variable, na.rm = TRUE), \"Actual\", \"Predict\")]\n",
    "\n",
    "data6$target_category <- factor(data6$target_category, levels = c(\"Actual\", \"Predict\"))"
   ]
  },
  {
   "cell_type": "code",
   "execution_count": null,
   "id": "351e4fd9-592e-4205-9efe-14a8aa974968",
   "metadata": {
    "tags": []
   },
   "outputs": [],
   "source": [
    "regression_model <- lm(target_variable ~ GHG_Incl_LULUCF + Water_Stress + PM25_Exposure + \n",
    "              Protected_Areas + Renewable_Energy + Fossil_Fuel_Use + Water_Productivity + \n",
    "              Energy_Use + Freshwater_Withdrawals + Energy_Depletion + \n",
    "              Resource_Depletion + Forest_Area, data = data6)\n",
    "\n",
    "summary(regression_model)"
   ]
  },
  {
   "cell_type": "markdown",
   "id": "c496bf3f-c61a-4449-8dbd-856352740a94",
   "metadata": {},
   "source": [
    "In the regression analysis, to compare the development level with environmental factors, a regression was initially conducted between a straightforward variable, such as per capita GDP, representing development level, and the identified environmental factors. Although the resulting R² value was not unsatisfactory, a different approach was adopted, as it would not be reasonable to define development solely based on GDP per capita. Therefore, adjustments were made to the data to enable a more comprehensive regression analysis. Specifically, to create a suitable target variable from the columns in the previously defined *development_indicators*, the geometric means of these columns were calculated to ensure compatibility for regression. Subsequently, the identified sustainability indicators were analyzed using the created target variables to explore how each value influenced the target variable and to what extent.\n",
    "\n",
    "Regression analysis returned a number of significant relations of the selected environmental indicators with the target variable: GHG_Incl_LULUCF, water stress, and protected areas were strongly positively related to the target variable at \\(p < 0.001\\), hence highly influential. On the other hand, PM2.5 exposure, renewable energy use, and freshwater withdrawals were significantly negatively related to the target variable at \\(p < 0.001\\). Interestingly, there was no significant relationship from the use of fossil fuel (p = 0.783), showing the complexity in its role. Although these findings gave a fair idea about the relationship between environmental factors and development, the generally low adjusted R² value of 0.0962 revealed the weakness of the model in explaining the phenomenon and served as an indication that the models require more variable inclusions or complexity to capture the full dynamics. This version includes all the important regression results in a context that makes sense."
   ]
  },
  {
   "cell_type": "markdown",
   "id": "15e6a590-2b3a-4c8b-932e-10bbbad6af31",
   "metadata": {},
   "source": [
    "## Decision Tree Analysis"
   ]
  },
  {
   "cell_type": "code",
   "execution_count": null,
   "id": "9f5e0936-322c-4864-85dc-c2cb5255a1eb",
   "metadata": {
    "tags": []
   },
   "outputs": [],
   "source": [
    "tree_model <- rpart(target_category ~ GHG_Incl_LULUCF + Water_Stress + PM25_Exposure + \n",
    "                                 Protected_Areas + Renewable_Energy + Fossil_Fuel_Use + Water_Productivity + \n",
    "                                 Energy_Use + Freshwater_Withdrawals + Energy_Depletion + \n",
    "                                 Resource_Depletion + Forest_Area, data = data6, method = \"class\")\n",
    "\n",
    "visNetwork::visTree(tree_model, main = \"Decision Tree\")"
   ]
  },
  {
   "cell_type": "code",
   "execution_count": null,
   "id": "b60a1bde-26d5-4020-9a01-5da009423345",
   "metadata": {},
   "outputs": [],
   "source": [
    "pred <- predict(tree_model, data6, type = \"class\")\n",
    "\n",
    "actual <- data6$target_category\n",
    "\n",
    "pred <- factor(pred, levels = levels(actual))\n",
    "\n",
    "conf_matrix <- confusionMatrix(pred, actual)\n",
    "print(conf_matrix)\n",
    "\n",
    "pred_prob <- predict(tree_model, data6, type = \"prob\")[,2]\n",
    "roc_curve <- roc(actual, pred_prob, levels = levels(actual))\n",
    "plot(roc_curve)\n",
    "auc_value <- auc(roc_curve)\n",
    "print(paste(\"AUC: \", auc_value))"
   ]
  },
  {
   "cell_type": "markdown",
   "id": "fade1318-7e02-497c-83b2-b57e11fcf695",
   "metadata": {},
   "source": [
    "### Pruned Tree"
   ]
  },
  {
   "cell_type": "code",
   "execution_count": null,
   "id": "c85e1971-08c1-4f9c-9665-23061e09ce92",
   "metadata": {},
   "outputs": [],
   "source": [
    "printcp(tree_model)\n",
    "best_cp <- tree_model$cptable[which.min(tree_model$cptable[,\"xerror\"]),\"CP\"]\n",
    "\n",
    "pruned_tree <- prune(tree_model, cp = best_cp)\n",
    "\n",
    "visNetwork::visTree(pruned_tree, main = \"Pruned Decision Tree\")"
   ]
  },
  {
   "cell_type": "code",
   "execution_count": null,
   "id": "c7e112a6-30e6-424c-9de0-84f326f993e6",
   "metadata": {},
   "outputs": [],
   "source": [
    "pred_pruned <- predict(pruned_tree, data6, type = \"class\")\n",
    "\n",
    "actual <- data6$target_category\n",
    "\n",
    "pred_pruned <- factor(pred_pruned, levels = levels(actual))\n",
    "\n",
    "conf_matrix_pruned <- confusionMatrix(pred_pruned, actual)\n",
    "print(conf_matrix_pruned)\n",
    "\n",
    "pred_prob_pruned <- predict(pruned_tree, data6, type = \"prob\")[,2]\n",
    "roc_curve_pruned <- roc(actual, pred_prob_pruned, levels = levels(actual))\n",
    "plot(roc_curve_pruned)\n",
    "auc_value_pruned <- auc(roc_curve_pruned)\n",
    "print(paste(\"Pruned AUC: \", auc_value_pruned))"
   ]
  },
  {
   "cell_type": "markdown",
   "id": "b61c15b1-7134-4da3-ad4e-eee4d85251c8",
   "metadata": {},
   "source": [
    "Finally, to enhance the analysis further, a decision tree was employed to explore the nonlinear relationships between the target_variable created in the previous step and the identified environmental sustainability factors. The accuracy of the decision tree's results was evaluated using a confusion matrix, and the AUC value was calculated and visualized with the ROC curve. As the initial accuracy values were slightly higher than expected, the analysis was pruned following a \"too good to be true\" approach, and the calculations were repeated to ensure reliability.\n",
    "\n",
    "The confusion matrix for the initial decision tree, which provided an accuracy of 67.84%, with a sensitivity of 73.94% and a specificity of 61.74%. The estimated AUC value for the unpruned model is 0.695, shown on the ROC curve. As these initial accuracy values looked somewhat higher than intuitively felt, the model was pruned to avoid overfitting, using the complexity parameter with the lowest cross-validated error. This is reflected in the pruned decision tree that made its predictions using fewer variables, mainly **Energy Depletion, Energy Use, PM2.5 Exposure, Renewable Energy, Water Productivity**, and **Water Stress**.\n",
    "\n",
    "After pruning, the model's accuracy remained at 67.84%, while sensitivity and specificity showed relatively similar values. Surprisingly, the AUC for the pruned tree showed a slight increase in value to 0.6955, reflecting better reliability and a closer generalization capability of the model. These results are indicative that, though pruning simplified the model, the predictive power of the model was preserved and potential overfitting was avoided. Based on the above presented decision tree analysis, combined with the regression and clustering models, the study puts into focus complex and nonlinear relationships of socio-economic factors with environmental sustainability for actionable insights on drivers of sustainable development."
   ]
  },
  {
   "cell_type": "markdown",
   "id": "5b07a0b9-7fc1-4367-a7c1-d5d8d3df9995",
   "metadata": {},
   "source": [
    "# Conclusion\n",
    "The main objective of this project was to analyze the relationship between countries’ development levels and environmental sustainability policies using a comprehensive dataset covering more than 200 countries spanning over 30 years. The study used clustering, regression and decision tree techniques to reveal patterns, quantify relationships and examine the main socio-economic drivers of sustainability. While some insights were obtained, the analysis faced certain difficulties and limitations.\n",
    "\n",
    "The regression analysis did not yield a very poor R^2 result when development was reduced to a single value, but when a complex development variable was created by taking the geometric mean, it yielded very low R² values. The low explanatory power of the analysis indicated that the linear relationships between the selected socio-economic and environmental indicators were weaker than expected. Similarly, the cluster analysis provided valuable groupings of countries according to their development and environmental characteristics, but when visualized on global maps, no direct overlap was observed between development and environmental clusters. This discrepancy highlights the complexity of the relationship and may indicate that development and environmental performance are affected by additional, unobserved factors or that our methods of dealing with the NA values ​​at the beginning of the analysis produced a worse result than expected.\n",
    "\n",
    "Despite these limitations, the analysis achieved some success by identifying separate clusters and revealing nonlinear relationships through decision tree modeling. These approaches revealed important trends, such as the association of lower development clusters with higher environmental stress and the mixed performance of transition economies.\n",
    "\n",
    "Although the project did not fully achieve its goal of robustly explaining the relationship between development and environmental sustainability, it did provide valuable insights and highlight the significant resulting challenges in analyzing these dynamics. The findings highlight the need for more comprehensive data, refined models, and additional contextual factors to better understand and address the complex interactions between socioeconomic development and environmental sustainability."
   ]
  }
 ],
 "metadata": {
  "kernelspec": {
   "display_name": "R",
   "language": "R",
   "name": "ir"
  },
  "language_info": {
   "codemirror_mode": "r",
   "file_extension": ".r",
   "mimetype": "text/x-r-source",
   "name": "R",
   "pygments_lexer": "r",
   "version": "4.2.1"
  }
 },
 "nbformat": 4,
 "nbformat_minor": 5
}
